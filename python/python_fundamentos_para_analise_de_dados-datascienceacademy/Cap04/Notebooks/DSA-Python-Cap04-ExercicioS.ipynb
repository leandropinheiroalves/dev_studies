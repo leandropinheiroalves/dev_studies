{
 "cells": [
  {
   "cell_type": "markdown",
   "source": [
    "# <font color='blue'>Data Science Academy - Python Fundamentos - Capítulo 4</font>\n",
    "\n",
    "## Download: http://github.com/dsacademybr"
   ],
   "metadata": {}
  },
  {
   "cell_type": "code",
   "execution_count": 1,
   "source": [
    "# Versão da Linguagem Python\r\n",
    "from platform import python_version\r\n",
    "print('Versão da Linguagem Python Usada Neste Jupyter Notebook:', python_version())"
   ],
   "outputs": [
    {
     "output_type": "stream",
     "name": "stdout",
     "text": [
      "Versão da Linguagem Python Usada Neste Jupyter Notebook: 3.8.8\n"
     ]
    }
   ],
   "metadata": {}
  },
  {
   "cell_type": "markdown",
   "source": [
    "## Exercícios "
   ],
   "metadata": {}
  },
  {
   "cell_type": "code",
   "execution_count": 4,
   "source": [
    "# Exercício 1 - Crie uma lista de 3 elementos e calcule a terceira potência de cada elemento.\r\n",
    "lista = [3, 4, 5]\r\n",
    "resultado = list(map(lambda x: x**3, lista))\r\n",
    "print(resultado)"
   ],
   "outputs": [
    {
     "output_type": "stream",
     "name": "stdout",
     "text": [
      "[27, 64, 125]\n"
     ]
    }
   ],
   "metadata": {}
  },
  {
   "cell_type": "code",
   "execution_count": 11,
   "source": [
    "# Exercício 2 - Reescreva o código abaixo, usando a função map(). O resultado final deve ser o mesmo!\r\n",
    "# palavras = 'A Data Science Academy oferce os melhores cursos de análise de dados do Brasil'.split()\r\n",
    "# resultado = [[w.upper(), w.lower(), len(w)] for w in palavras]\r\n",
    "# for i in resultado:\r\n",
    "#     print (i)\r\n",
    "\r\n",
    "palavras = 'A Data Science Academy oferce os melhores cursos de análise de dados do Brasil'.split()\r\n",
    "resultado = map(lambda x: [x.upper(),  x.lower(), len(x)], palavras)\r\n",
    "for caracter in resultado:\r\n",
    "    print(caracter)"
   ],
   "outputs": [
    {
     "output_type": "stream",
     "name": "stdout",
     "text": [
      "['A', 'a', 1]\n",
      "['DATA', 'data', 4]\n",
      "['SCIENCE', 'science', 7]\n",
      "['ACADEMY', 'academy', 7]\n",
      "['OFERCE', 'oferce', 6]\n",
      "['OS', 'os', 2]\n",
      "['MELHORES', 'melhores', 8]\n",
      "['CURSOS', 'cursos', 6]\n",
      "['DE', 'de', 2]\n",
      "['ANÁLISE', 'análise', 7]\n",
      "['DE', 'de', 2]\n",
      "['DADOS', 'dados', 5]\n",
      "['DO', 'do', 2]\n",
      "['BRASIL', 'brasil', 6]\n"
     ]
    }
   ],
   "metadata": {}
  },
  {
   "cell_type": "code",
   "execution_count": 12,
   "source": [
    "# Exercício 3 - Calcule a matriz transposta da matriz abaixo.\r\n",
    "# Caso não saiba o que é matriz transposta, visite este link: https://pt.wikipedia.org/wiki/Matriz_transposta\r\n",
    "# Matriz transposta é um conceito fundamental na construção de redes neurais artificiais, base de sistemas de IA.\r\n",
    "matrix = [[1, 2],[3,4],[5,6],[7,8]]\r\n",
    "transpose = [[row[i] for row in matrix] for i in range(2)]\r\n",
    "print(transpose)\r\n"
   ],
   "outputs": [
    {
     "output_type": "stream",
     "name": "stdout",
     "text": [
      "[[1, 3, 5, 7], [2, 4, 6, 8]]\n"
     ]
    }
   ],
   "metadata": {}
  },
  {
   "cell_type": "code",
   "execution_count": 20,
   "source": [
    "# Exercício 4 - Crie duas funções, uma para elevar um número ao quadrado e outra para elevar ao cubo. \r\n",
    "# Aplique as duas funções aos elementos da lista abaixo. \r\n",
    "# Obs: as duas funções devem ser aplicadas simultaneamente.\r\n",
    "lista = [0, 1, 2, 3, 4]\r\n",
    "quadrado = lambda x: x**2\r\n",
    "cubo = lambda x: x**3\r\n",
    "funções = lambda x: [quadrado(x), cubo(x)]\r\n",
    "\r\n",
    "resultado = list(map(funções, lista))\r\n",
    "for i in resultado:\r\n",
    "    print(i)"
   ],
   "outputs": [
    {
     "output_type": "stream",
     "name": "stdout",
     "text": [
      "[0, 0]\n",
      "[1, 1]\n",
      "[4, 8]\n",
      "[9, 27]\n",
      "[16, 64]\n"
     ]
    }
   ],
   "metadata": {}
  },
  {
   "cell_type": "code",
   "execution_count": 22,
   "source": [
    "# Exercício 5 - Abaixo você encontra duas listas. Faça com que cada elemento da listaA seja elevado \r\n",
    "# ao elemento correspondente na listaB.\r\n",
    "listaA = [2, 3, 4]\r\n",
    "listaB = [10, 11, 12]\r\n",
    "resultado = list(map(pow, listaA, listaB))\r\n",
    "print(resultado)\r\n"
   ],
   "outputs": [
    {
     "output_type": "stream",
     "name": "stdout",
     "text": [
      "[1024, 177147, 16777216]\n"
     ]
    }
   ],
   "metadata": {}
  },
  {
   "cell_type": "code",
   "execution_count": 26,
   "source": [
    "# Exercício 6 - Considerando o range de valores abaixo, use a função filter() para retornar apenas os valores negativos.\r\n",
    "rng = range(-5, 5)\r\n",
    "resultado = list(filter(lambda x: True if x < 0 else False, rng))\r\n",
    "print(resultado)"
   ],
   "outputs": [
    {
     "output_type": "stream",
     "name": "stdout",
     "text": [
      "[-5, -4, -3, -2, -1]\n"
     ]
    }
   ],
   "metadata": {}
  },
  {
   "cell_type": "code",
   "execution_count": 27,
   "source": [
    "# Exercício 7 - Usando a função filter(), encontre os valores que são comuns às duas listas abaixo.\r\n",
    "a = [1,2,3,5,7,9]\r\n",
    "b = [2,3,5,6,7,8]\r\n",
    "resultado = list(filter(lambda x: x in a, b))\r\n",
    "print(resultado)"
   ],
   "outputs": [
    {
     "output_type": "stream",
     "name": "stdout",
     "text": [
      "[2, 3, 5, 7]\n"
     ]
    }
   ],
   "metadata": {}
  },
  {
   "cell_type": "code",
   "execution_count": 36,
   "source": [
    "# Exercício 8 - Considere o código abaixo. Obtenha o mesmo resultado usando o pacote time. \r\n",
    "# Não conhece o pacote time? Pesquise!\r\n",
    "import datetime\r\n",
    "print (datetime.datetime.now().strftime(\"%d/%m/%Y %H:%M\"))"
   ],
   "outputs": [
    {
     "output_type": "stream",
     "name": "stdout",
     "text": [
      "08/09/2021 12:22\n"
     ]
    }
   ],
   "metadata": {}
  },
  {
   "cell_type": "code",
   "execution_count": 38,
   "source": [
    "import time\r\n",
    "print(time.strftime(\"%d/%m/%Y %H:%M\"))"
   ],
   "outputs": [
    {
     "output_type": "stream",
     "name": "stdout",
     "text": [
      "08/09/2021 12:25\n"
     ]
    }
   ],
   "metadata": {}
  },
  {
   "cell_type": "code",
   "execution_count": 51,
   "source": [
    "# Exercício 9 - Considere os dois dicionários abaixo. \r\n",
    "# Crie um terceiro dicionário com as chaves do dicionário 1 e os valores do dicionário 2.\r\n",
    "dict1 = {'a':1,'b':2}\r\n",
    "dict2 = {'c':4,'d':5}\r\n",
    "\r\n",
    "def trocar_valor(a, b):\r\n",
    "    dict3 = dict()\r\n",
    "    for chave, valor in zip(a, b.values()):\r\n",
    "        dict3[chave] = valor\r\n",
    "    return dict3\r\n",
    "\r\n",
    "trocar_valor(dict1, dict2)"
   ],
   "outputs": [
    {
     "output_type": "execute_result",
     "data": {
      "text/plain": [
       "{'a': 4, 'b': 5}"
      ]
     },
     "metadata": {},
     "execution_count": 51
    }
   ],
   "metadata": {}
  },
  {
   "cell_type": "code",
   "execution_count": 53,
   "source": [
    "# Exercício 10 - Considere a lista abaixo e retorne apenas os elementos cujo índice for maior que 5.\r\n",
    "lista = ['a', 'b', 'c', 'd', 'e', 'f', 'g', 'h']\r\n",
    "for i, c in enumerate(lista):\r\n",
    "    if i > 5:\r\n",
    "        print(c)"
   ],
   "outputs": [
    {
     "output_type": "stream",
     "name": "stdout",
     "text": [
      "g\n",
      "h\n"
     ]
    }
   ],
   "metadata": {}
  },
  {
   "cell_type": "markdown",
   "source": [
    "# Fim"
   ],
   "metadata": {}
  },
  {
   "cell_type": "markdown",
   "source": [
    "### Obrigado\n",
    "\n",
    "### Visite o Blog da Data Science Academy - <a href=\"http://blog.dsacademy.com.br\">Blog DSA</a>"
   ],
   "metadata": {}
  }
 ],
 "metadata": {
  "kernelspec": {
   "name": "python3",
   "display_name": "Python 3.8.8 64-bit ('base': conda)"
  },
  "language_info": {
   "codemirror_mode": {
    "name": "ipython",
    "version": 3
   },
   "file_extension": ".py",
   "mimetype": "text/x-python",
   "name": "python",
   "nbconvert_exporter": "python",
   "pygments_lexer": "ipython3",
   "version": "3.8.8"
  },
  "interpreter": {
   "hash": "3e601f0cabf5b16bcd7752c0c1590e89a6efe77ccc33d4818a5ac8598b9a9f8f"
  }
 },
 "nbformat": 4,
 "nbformat_minor": 1
}