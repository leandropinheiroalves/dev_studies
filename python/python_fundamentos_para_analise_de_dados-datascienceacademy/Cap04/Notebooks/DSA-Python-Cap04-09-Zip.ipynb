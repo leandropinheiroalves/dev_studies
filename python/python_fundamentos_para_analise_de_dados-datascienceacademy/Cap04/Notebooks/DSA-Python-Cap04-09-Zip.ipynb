{
 "cells": [
  {
   "cell_type": "markdown",
   "source": [
    "# <font color='blue'>Data Science Academy - Python Fundamentos - Capítulo 4</font>\n",
    "\n",
    "## Download: http://github.com/dsacademybr"
   ],
   "metadata": {}
  },
  {
   "cell_type": "code",
   "execution_count": null,
   "source": [
    "# Versão da Linguagem Python\r\n",
    "from platform import python_version\r\n",
    "print('Versão da Linguagem Python Usada Neste Jupyter Notebook:', python_version())"
   ],
   "outputs": [],
   "metadata": {}
  },
  {
   "cell_type": "markdown",
   "source": [
    "## Zip"
   ],
   "metadata": {}
  },
  {
   "cell_type": "code",
   "execution_count": 1,
   "source": [
    "# Criando duas listas\r\n",
    "x = [1,2,3]\r\n",
    "y = [4,5,6]"
   ],
   "outputs": [],
   "metadata": {}
  },
  {
   "cell_type": "code",
   "execution_count": 2,
   "source": [
    "# Unindo as listas. Em Python3 retorna um iterator\r\n",
    "zip(x, y)"
   ],
   "outputs": [
    {
     "output_type": "execute_result",
     "data": {
      "text/plain": [
       "<zip at 0x4a867c0>"
      ]
     },
     "metadata": {},
     "execution_count": 2
    }
   ],
   "metadata": {}
  },
  {
   "cell_type": "code",
   "execution_count": 3,
   "source": [
    "# Perceba que zip retorna tuplas. Neste caso, uma lista de tuplas\r\n",
    "list(zip(x,y))"
   ],
   "outputs": [
    {
     "output_type": "execute_result",
     "data": {
      "text/plain": [
       "[(1, 4), (2, 5), (3, 6)]"
      ]
     },
     "metadata": {},
     "execution_count": 3
    }
   ],
   "metadata": {}
  },
  {
   "cell_type": "code",
   "execution_count": 4,
   "source": [
    "# Atenção quando as sequências tiverem número diferente de elementos\r\n",
    "list(zip('ABCD', 'xy'))"
   ],
   "outputs": [
    {
     "output_type": "execute_result",
     "data": {
      "text/plain": [
       "[('A', 'x'), ('B', 'y')]"
      ]
     },
     "metadata": {},
     "execution_count": 4
    }
   ],
   "metadata": {}
  },
  {
   "cell_type": "code",
   "execution_count": 5,
   "source": [
    "# Criando duas listas\r\n",
    "a = [1,2,3]\r\n",
    "b = [4,5,6,7,8]"
   ],
   "outputs": [],
   "metadata": {}
  },
  {
   "cell_type": "code",
   "execution_count": 6,
   "source": [
    "list(zip(a,b)) "
   ],
   "outputs": [
    {
     "output_type": "execute_result",
     "data": {
      "text/plain": [
       "[(1, 4), (2, 5), (3, 6)]"
      ]
     },
     "metadata": {},
     "execution_count": 6
    }
   ],
   "metadata": {}
  },
  {
   "cell_type": "code",
   "execution_count": 7,
   "source": [
    "# Criando 2 dicionários\r\n",
    "d1 = {'a':1,'b':2}\r\n",
    "d2 = {'c':4,'d':5}"
   ],
   "outputs": [],
   "metadata": {}
  },
  {
   "cell_type": "code",
   "execution_count": 8,
   "source": [
    "# Zip vai unir as chaves\r\n",
    "list(zip(d1,d2))"
   ],
   "outputs": [
    {
     "output_type": "execute_result",
     "data": {
      "text/plain": [
       "[('a', 'c'), ('b', 'd')]"
      ]
     },
     "metadata": {},
     "execution_count": 8
    }
   ],
   "metadata": {}
  },
  {
   "cell_type": "code",
   "execution_count": 9,
   "source": [
    "# Zip pode unir os valores (itens)\r\n",
    "list(zip(d1, d2.values()))"
   ],
   "outputs": [
    {
     "output_type": "execute_result",
     "data": {
      "text/plain": [
       "[('a', 4), ('b', 5)]"
      ]
     },
     "metadata": {},
     "execution_count": 9
    }
   ],
   "metadata": {}
  },
  {
   "cell_type": "code",
   "execution_count": 11,
   "source": [
    "# Criando uma função para trocar valores entre 2 dicionários\r\n",
    "def trocaValores(d1, d2):\r\n",
    "    dicTemp = {}\r\n",
    "    \r\n",
    "    for d1key, d2val in zip(d1,d2.values()):\r\n",
    "        dicTemp[d1key] = d2val\r\n",
    "    \r\n",
    "    return dicTemp"
   ],
   "outputs": [],
   "metadata": {}
  },
  {
   "cell_type": "code",
   "execution_count": 12,
   "source": [
    "trocaValores(d1, d2)"
   ],
   "outputs": [
    {
     "output_type": "execute_result",
     "data": {
      "text/plain": [
       "{'a': 4, 'b': 5}"
      ]
     },
     "metadata": {},
     "execution_count": 12
    }
   ],
   "metadata": {}
  },
  {
   "cell_type": "markdown",
   "source": [
    "# FIM"
   ],
   "metadata": {}
  },
  {
   "cell_type": "markdown",
   "source": [
    "### Obrigado\n",
    "\n",
    "### Visite o Blog da Data Science Academy - <a href=\"http://blog.dsacademy.com.br\">Blog DSA</a>"
   ],
   "metadata": {}
  }
 ],
 "metadata": {
  "kernelspec": {
   "name": "python3",
   "display_name": "Python 3.8.8 64-bit ('base': conda)"
  },
  "language_info": {
   "codemirror_mode": {
    "name": "ipython",
    "version": 3
   },
   "file_extension": ".py",
   "mimetype": "text/x-python",
   "name": "python",
   "nbconvert_exporter": "python",
   "pygments_lexer": "ipython3",
   "version": "3.8.8"
  },
  "interpreter": {
   "hash": "3e601f0cabf5b16bcd7752c0c1590e89a6efe77ccc33d4818a5ac8598b9a9f8f"
  }
 },
 "nbformat": 4,
 "nbformat_minor": 1
}