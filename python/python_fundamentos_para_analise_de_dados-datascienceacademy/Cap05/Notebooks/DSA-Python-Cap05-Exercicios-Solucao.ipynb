{
 "cells": [
  {
   "cell_type": "markdown",
   "source": [
    "# <font color='blue'>Data Science Academy - Python Fundamentos - Capítulo 5</font>\n",
    "\n",
    "## Download: http://github.com/dsacademybr"
   ],
   "metadata": {}
  },
  {
   "cell_type": "code",
   "execution_count": 1,
   "source": [
    "# Versão da Linguagem Python\r\n",
    "from platform import python_version\r\n",
    "print('Versão da Linguagem Python Usada Neste Jupyter Notebook:', python_version())"
   ],
   "outputs": [
    {
     "output_type": "stream",
     "name": "stdout",
     "text": [
      "Versão da Linguagem Python Usada Neste Jupyter Notebook: 3.8.8\n"
     ]
    }
   ],
   "metadata": {}
  },
  {
   "cell_type": "markdown",
   "source": [
    "## Exercícios"
   ],
   "metadata": {}
  },
  {
   "cell_type": "code",
   "execution_count": null,
   "source": [
    "# Exercício 1 - Crie um objeto a partir da classe abaixo, chamado roc1, passando 2 parâmetros e depois faça uma chamada\r\n",
    "# aos atributos e métodos\r\n",
    "from math import sqrt\r\n",
    "\r\n",
    "class Rocket():\r\n",
    "     \r\n",
    "    def __init__(self, x=0, y=0):\r\n",
    "        self.x = x\r\n",
    "        self.y = y\r\n",
    "        \r\n",
    "    def move_rocket(self, x_increment=0, y_increment=1):\r\n",
    "        self.x += x_increment\r\n",
    "        self.y += y_increment\r\n",
    "        \r\n",
    "    def print_rocket(self):\r\n",
    "        print(self.x, self.y)\r\n",
    "        \r\n",
    "    \r\n",
    "roc1 = Rocket(10,34)\r\n",
    "roc1.x\r\n",
    "roc1.y\r\n",
    "roc1.print_rocket()\r\n",
    "roc1.move_rocket(12, 44)\r\n",
    "roc1.print_rocket()"
   ],
   "outputs": [],
   "metadata": {}
  },
  {
   "cell_type": "code",
   "execution_count": null,
   "source": [
    "# Exercício 2 - Crie uma classe chamada Pessoa() com os atributos: nome, cidade, telefone e e-mail. Use pelo menos 2\r\n",
    "# métodos especiais na sua classe. Crie um objeto da sua classe e faça uma chamada a pelo menos um dos seus métodos\r\n",
    "# especiais\r\n",
    "class Pessoa():\r\n",
    "    \r\n",
    "    def __init__(self, nome, cidade, telefone, email):\r\n",
    "        self.nome = nome\r\n",
    "        self.cidade = cidade\r\n",
    "        self.telefone = telefone\r\n",
    "        self.email = email\r\n",
    "        print(\"Objeto criado\")\r\n",
    "        \r\n",
    "    def __str__(self):\r\n",
    "        return \"O usuário \" + self.nome + \" mora na cidade \" + self.cidade\r\n",
    "\r\n",
    "P1 = Pessoa(\"Pele\", \"Três Corações\", 99887766, \"pele@gmail.com\")\r\n",
    "str(P1)"
   ],
   "outputs": [],
   "metadata": {}
  },
  {
   "cell_type": "code",
   "execution_count": 2,
   "source": [
    "# Exercício 3 - Crie a classe Smartphone com 2 atributos, tamanho e interface e crie a classe MP3Player com os \r\n",
    "# atributos capacidade. A classe MP3player deve herdar os atributos da classe Smartphone.\r\n",
    "class Smartphone(object):\r\n",
    "    def __init__(self, tamanho, interface):\r\n",
    "        self.tamanho = tamanho\r\n",
    "        self.interface = interface\r\n",
    "        \r\n",
    "class MP3Player(Smartphone):\r\n",
    "    def __init__(self, capacidade, tamanho = 'Pequeno', interface = 'Led'):\r\n",
    "        self.capacidade = capacidade\r\n",
    "        Smartphone.__init__(self, tamanho, interface)\r\n",
    "        \r\n",
    "    def print_mp3player(self):\r\n",
    "        print(\"Valores para o objeto criado: %s %s %s\"  %(self.tamanho, self.interface, self.capacidade))\r\n",
    "    \r\n",
    "device1 = MP3Player('64 GB')\r\n",
    "device1.print_mp3player()"
   ],
   "outputs": [
    {
     "output_type": "stream",
     "name": "stdout",
     "text": [
      "Valores para o objeto criado: Pequeno Led 64 GB\n"
     ]
    }
   ],
   "metadata": {}
  },
  {
   "cell_type": "markdown",
   "source": [
    "### FIM"
   ],
   "metadata": {}
  },
  {
   "cell_type": "markdown",
   "source": [
    "### Obrigado\n",
    "\n",
    "### Visite o Blog da Data Science Academy - <a href=\"http://blog.dsacademy.com.br\">Blog DSA</a>"
   ],
   "metadata": {}
  }
 ],
 "metadata": {
  "kernelspec": {
   "name": "python3",
   "display_name": "Python 3.8.8 64-bit ('base': conda)"
  },
  "language_info": {
   "codemirror_mode": {
    "name": "ipython",
    "version": 3
   },
   "file_extension": ".py",
   "mimetype": "text/x-python",
   "name": "python",
   "nbconvert_exporter": "python",
   "pygments_lexer": "ipython3",
   "version": "3.8.8"
  },
  "interpreter": {
   "hash": "3e601f0cabf5b16bcd7752c0c1590e89a6efe77ccc33d4818a5ac8598b9a9f8f"
  }
 },
 "nbformat": 4,
 "nbformat_minor": 1
}