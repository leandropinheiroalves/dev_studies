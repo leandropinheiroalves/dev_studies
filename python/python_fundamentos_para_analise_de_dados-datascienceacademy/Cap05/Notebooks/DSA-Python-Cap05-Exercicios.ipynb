{
 "cells": [
  {
   "cell_type": "markdown",
   "source": [
    "# <font color='blue'>Data Science Academy - Python Fundamentos - Capítulo 5</font>\n",
    "\n",
    "## Download: http://github.com/dsacademybr"
   ],
   "metadata": {}
  },
  {
   "cell_type": "code",
   "execution_count": 1,
   "source": [
    "# Versão da Linguagem Python\r\n",
    "from platform import python_version\r\n",
    "print('Versão da Linguagem Python Usada Neste Jupyter Notebook:', python_version())"
   ],
   "outputs": [
    {
     "output_type": "stream",
     "name": "stdout",
     "text": [
      "Versão da Linguagem Python Usada Neste Jupyter Notebook: 3.8.8\n"
     ]
    }
   ],
   "metadata": {}
  },
  {
   "cell_type": "markdown",
   "source": [
    "## Exercícios"
   ],
   "metadata": {}
  },
  {
   "cell_type": "code",
   "execution_count": 3,
   "source": [
    "# Exercício 1 - Crie um objeto a partir da classe abaixo, chamado roc1, passando 2 parâmetros e depois faça uma chamada\r\n",
    "# aos atributos e métodos\r\n",
    "from math import sqrt\r\n",
    "\r\n",
    "class Rocket():\r\n",
    "     \r\n",
    "    def __init__(self, x=0, y=0):\r\n",
    "        self.x = x\r\n",
    "        self.y = y\r\n",
    "        \r\n",
    "    def move_rocket(self, x_increment=0, y_increment=1):\r\n",
    "        self.x += x_increment\r\n",
    "        self.y += y_increment\r\n",
    "        \r\n",
    "    def print_rocket(self):\r\n",
    "        print(self.x, self.y)\r\n",
    "        "
   ],
   "outputs": [],
   "metadata": {}
  },
  {
   "cell_type": "code",
   "execution_count": 11,
   "source": [
    "roc1 = Rocket(4, 7)\r\n",
    "roc1.move_rocket(5, 8)\r\n",
    "roc1.print_rocket()"
   ],
   "outputs": [
    {
     "output_type": "stream",
     "name": "stdout",
     "text": [
      "9 15\n"
     ]
    }
   ],
   "metadata": {}
  },
  {
   "cell_type": "code",
   "execution_count": 25,
   "source": [
    "# Exercício 2 - Crie uma classe chamada Pessoa() com os atributos: nome, cidade, telefone e e-mail. Use pelo menos 2\r\n",
    "# métodos especiais na sua classe. Crie um objeto da sua classe e faça uma chamada a pelo menos um dos seus métodos\r\n",
    "# especiais.\r\n",
    "class Pessoa():\r\n",
    "    def __init__(self, nome, cidade='Barro Branco', telefone='', email='0'):\r\n",
    "        self.nome = nome\r\n",
    "        self.cidade = cidade\r\n",
    "        self.telefone = telefone\r\n",
    "        self.email = email\r\n",
    "\r\n",
    "    def __str__(self):\r\n",
    "        return f'Seu nome é {self.nome}, você mora em {self.cidade}.'\r\n",
    "\r\n",
    "jonas = Pessoa('Jonas', 'Rio de Janeiro', '9 9732 2510', 'jonas@pessoa.com')\r\n",
    "print(jonas)\r\n",
    "print(jonas.telefone, jonas.cidade, jonas.email)\r\n"
   ],
   "outputs": [
    {
     "output_type": "stream",
     "name": "stdout",
     "text": [
      "Seu nome é Jonas, você mora em Rio de Janeiro.\n",
      "9 9732 2510 Rio de Janeiro jonas@pessoa.com\n"
     ]
    }
   ],
   "metadata": {}
  },
  {
   "cell_type": "code",
   "execution_count": 31,
   "source": [
    "# Exercício 3 - Crie a classe Smartphone com 2 atributos, tamanho e interface e crie a classe MP3Player com os \r\n",
    "# atributos capacidade. A classe MP3player deve herdar os atributos da classe Smartphone.\r\n",
    "class Smartphone():\r\n",
    "    def  __init__(self, tamanho=1, interface=0):\r\n",
    "        self.tamanho = tamanho\r\n",
    "        self.interface = interface\r\n",
    "\r\n",
    "class MP3player(Smartphone):\r\n",
    "    def __init__(self, capacidade, tamanho = 'Grande', interface='Led'):\r\n",
    "        self.capacidade = capacidade\r\n",
    "        self.tamanho = tamanho\r\n",
    "        self.interface = interface\r\n",
    "\r\n",
    "    def especificacoes(self):\r\n",
    "        print(f'O Mp3 adquirido tem {self.capacidade}, é {self.tamanho} e é de {self.interface}')\r\n",
    "\r\n",
    "\r\n",
    "mp3 = MP3player('64 GB')\r\n",
    "mp3.especificacoes()"
   ],
   "outputs": [
    {
     "output_type": "stream",
     "name": "stdout",
     "text": [
      "O Mp3 adquirido tem 64 GB, é Grande e é de Led\n"
     ]
    }
   ],
   "metadata": {}
  },
  {
   "cell_type": "markdown",
   "source": [
    "### FIM"
   ],
   "metadata": {}
  },
  {
   "cell_type": "markdown",
   "source": [
    "### Obrigado\n",
    "\n",
    "### Visite o Blog da Data Science Academy - <a href=\"http://blog.dsacademy.com.br\">Blog DSA</a>"
   ],
   "metadata": {}
  }
 ],
 "metadata": {
  "kernelspec": {
   "name": "python3",
   "display_name": "Python 3.8.8 64-bit ('base': conda)"
  },
  "language_info": {
   "codemirror_mode": {
    "name": "ipython",
    "version": 3
   },
   "file_extension": ".py",
   "mimetype": "text/x-python",
   "name": "python",
   "nbconvert_exporter": "python",
   "pygments_lexer": "ipython3",
   "version": "3.8.8"
  },
  "interpreter": {
   "hash": "3e601f0cabf5b16bcd7752c0c1590e89a6efe77ccc33d4818a5ac8598b9a9f8f"
  }
 },
 "nbformat": 4,
 "nbformat_minor": 1
}