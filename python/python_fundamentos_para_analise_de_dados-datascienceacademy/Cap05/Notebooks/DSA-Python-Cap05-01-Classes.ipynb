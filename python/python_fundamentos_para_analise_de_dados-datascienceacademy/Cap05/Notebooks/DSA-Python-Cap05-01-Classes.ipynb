{
 "cells": [
  {
   "cell_type": "markdown",
   "source": [
    "# <font color='blue'>Data Science Academy - Python Fundamentos - Capítulo 5</font>\n",
    "\n",
    "## Download: http://github.com/dsacademybr"
   ],
   "metadata": {}
  },
  {
   "cell_type": "code",
   "execution_count": null,
   "source": [
    "# Versão da Linguagem Python\r\n",
    "from platform import python_version\r\n",
    "print('Versão da Linguagem Python Usada Neste Jupyter Notebook:', python_version())"
   ],
   "outputs": [],
   "metadata": {}
  },
  {
   "cell_type": "markdown",
   "source": [
    "## Classes"
   ],
   "metadata": {}
  },
  {
   "cell_type": "markdown",
   "source": [
    "Para criar uma classe, utiliza-se a palavra reservada class. O nome da sua classe segue a mesma convenção de nomes\n",
    "para criação de funções e variáveis, mas normalmente se usa a primeira letra maiúscula em cada palavra no nome da \n",
    "classe."
   ],
   "metadata": {}
  },
  {
   "cell_type": "code",
   "execution_count": 1,
   "source": [
    "# Criando uma classe chamada Livro\r\n",
    "class Livro():\r\n",
    "    \r\n",
    "    # Este método vai inicializar cada objeto criado a partir desta classe\r\n",
    "    # O nome deste método é __init__\r\n",
    "    # (self) é uma referência a cada atributo de um objeto criado a partir desta classe\r\n",
    "    def __init__(self):\r\n",
    "        \r\n",
    "        # Atributos de cada objeto criado a partir desta classe. \r\n",
    "        # O self indica que estes são atributos dos objetos\r\n",
    "        self.titulo = 'O Monge e o Executivo'\r\n",
    "        self.isbn = 9988888\r\n",
    "        print(\"Construtor chamado para criar um objeto desta classe\")\r\n",
    "        \r\n",
    "    # Métodos são funções, que recebem como parâmetro atributos do objeto criado    \r\n",
    "    def imprime(self):\r\n",
    "        print(\"Foi criado o livro %s e ISBN %d\" %(self.titulo, self.isbn))"
   ],
   "outputs": [],
   "metadata": {}
  },
  {
   "cell_type": "code",
   "execution_count": 2,
   "source": [
    "# Criando uma instância da classe Livro\r\n",
    "Livro1 = Livro()"
   ],
   "outputs": [
    {
     "output_type": "stream",
     "name": "stdout",
     "text": [
      "Construtor chamado para criar um objeto desta classe\n"
     ]
    }
   ],
   "metadata": {}
  },
  {
   "cell_type": "code",
   "execution_count": 3,
   "source": [
    "# Tipo do Objeto Livro1\r\n",
    "type(Livro1)"
   ],
   "outputs": [
    {
     "output_type": "execute_result",
     "data": {
      "text/plain": [
       "__main__.Livro"
      ]
     },
     "metadata": {},
     "execution_count": 3
    }
   ],
   "metadata": {}
  },
  {
   "cell_type": "code",
   "execution_count": 4,
   "source": [
    "# Atributo do objeto Livro1\r\n",
    "Livro1.titulo"
   ],
   "outputs": [
    {
     "output_type": "execute_result",
     "data": {
      "text/plain": [
       "'O Monge e o Executivo'"
      ]
     },
     "metadata": {},
     "execution_count": 4
    }
   ],
   "metadata": {}
  },
  {
   "cell_type": "code",
   "execution_count": 7,
   "source": [
    "# Método do objeto Livro1\r\n",
    "Livro1.imprime()"
   ],
   "outputs": [
    {
     "output_type": "stream",
     "name": "stdout",
     "text": [
      "Foi criado o livro O Monge e o Executivo e ISBN 9988888\n"
     ]
    }
   ],
   "metadata": {}
  },
  {
   "cell_type": "code",
   "execution_count": 6,
   "source": [
    "# Criando a classe Livro com parâmetros no método construtor\r\n",
    "class Livro():\r\n",
    "    def __init__(self, titulo, isbn):\r\n",
    "        self.titulo = titulo\r\n",
    "        self.isbn = isbn\r\n",
    "        print(\"Construtor chamado para criar um objeto desta classe\")\r\n",
    "        \r\n",
    "    def imprime(self, titulo, isbn):\r\n",
    "        print(\"Este é o livro %s e ISBN %d\" %(titulo, isbn))"
   ],
   "outputs": [],
   "metadata": {}
  },
  {
   "cell_type": "code",
   "execution_count": 8,
   "source": [
    "# Criando o objeto Livro2 que é uma instância da classe Livro\r\n",
    "Livro2 = Livro(\"A Menina que Roubava Livros\", 77886611)"
   ],
   "outputs": [
    {
     "output_type": "stream",
     "name": "stdout",
     "text": [
      "Construtor chamado para criar um objeto desta classe\n"
     ]
    }
   ],
   "metadata": {}
  },
  {
   "cell_type": "code",
   "execution_count": 9,
   "source": [
    "Livro2.titulo"
   ],
   "outputs": [
    {
     "output_type": "execute_result",
     "data": {
      "text/plain": [
       "'A Menina que Roubava Livros'"
      ]
     },
     "metadata": {},
     "execution_count": 9
    }
   ],
   "metadata": {}
  },
  {
   "cell_type": "code",
   "execution_count": 10,
   "source": [
    "# Método do objeto Livro2\r\n",
    "Livro2.imprime(\"A Menina que Roubava Livros\", 77886611)"
   ],
   "outputs": [
    {
     "output_type": "stream",
     "name": "stdout",
     "text": [
      "Este é o livro A Menina que Roubava Livros e ISBN 77886611\n"
     ]
    }
   ],
   "metadata": {}
  },
  {
   "cell_type": "code",
   "execution_count": 11,
   "source": [
    "# Criando a classe cachorro\r\n",
    "class Cachorro():\r\n",
    "    def __init__(self, raça):\r\n",
    "        self.raça = raça\r\n",
    "        print(\"Construtor chamado para criar um objeto desta classe\")"
   ],
   "outputs": [],
   "metadata": {}
  },
  {
   "cell_type": "code",
   "execution_count": 12,
   "source": [
    "# Criando um objeto a partir da classe cachorro\r\n",
    "Rex = Cachorro(raça='Labrador')"
   ],
   "outputs": [
    {
     "output_type": "stream",
     "name": "stdout",
     "text": [
      "Construtor chamado para criar um objeto desta classe\n"
     ]
    }
   ],
   "metadata": {}
  },
  {
   "cell_type": "code",
   "execution_count": 13,
   "source": [
    "# Criando um objeto a partir da classe cachorro\r\n",
    "Golias = Cachorro(raça='Huskie')"
   ],
   "outputs": [
    {
     "output_type": "stream",
     "name": "stdout",
     "text": [
      "Construtor chamado para criar um objeto desta classe\n"
     ]
    }
   ],
   "metadata": {}
  },
  {
   "cell_type": "code",
   "execution_count": 14,
   "source": [
    "# Atributo da classe cachorro, utilizado pelo objeto criado\r\n",
    "Rex.raça"
   ],
   "outputs": [
    {
     "output_type": "execute_result",
     "data": {
      "text/plain": [
       "'Labrador'"
      ]
     },
     "metadata": {},
     "execution_count": 14
    }
   ],
   "metadata": {}
  },
  {
   "cell_type": "code",
   "execution_count": 15,
   "source": [
    "# Atributo da classe cachorro, utilizado pelo objeto criado\r\n",
    "Golias.raça"
   ],
   "outputs": [
    {
     "output_type": "execute_result",
     "data": {
      "text/plain": [
       "'Huskie'"
      ]
     },
     "metadata": {},
     "execution_count": 15
    }
   ],
   "metadata": {}
  },
  {
   "cell_type": "markdown",
   "source": [
    "# Fim"
   ],
   "metadata": {}
  },
  {
   "cell_type": "markdown",
   "source": [
    "### Obrigado\n",
    "\n",
    "### Visite o Blog da Data Science Academy - <a href=\"http://blog.dsacademy.com.br\">Blog DSA</a>"
   ],
   "metadata": {}
  },
  {
   "cell_type": "code",
   "execution_count": 13,
   "source": [
    "palavra = 'abacaxi'\r\n",
    "lista1 = list()\r\n",
    "lista2 = list('_' * len(palavra))\r\n",
    "\r\n",
    "for i, l in enumerate(palavra):\r\n",
    "    if letra == palavra[i]:\r\n",
    "        lista2[i] = l\r\n",
    "    \r\n",
    "\r\n"
   ],
   "outputs": [
    {
     "output_type": "stream",
     "name": "stdout",
     "text": [
      "['_', '_', '_', '_', '_', '_', '_']\n",
      "['a', '_', 'a', '_', 'a', '_', '_']\n"
     ]
    }
   ],
   "metadata": {}
  }
 ],
 "metadata": {
  "kernelspec": {
   "name": "python3",
   "display_name": "Python 3.8.8 64-bit"
  },
  "language_info": {
   "codemirror_mode": {
    "name": "ipython",
    "version": 3
   },
   "file_extension": ".py",
   "mimetype": "text/x-python",
   "name": "python",
   "nbconvert_exporter": "python",
   "pygments_lexer": "ipython3",
   "version": "3.8.8"
  },
  "interpreter": {
   "hash": "3e601f0cabf5b16bcd7752c0c1590e89a6efe77ccc33d4818a5ac8598b9a9f8f"
  }
 },
 "nbformat": 4,
 "nbformat_minor": 1
}